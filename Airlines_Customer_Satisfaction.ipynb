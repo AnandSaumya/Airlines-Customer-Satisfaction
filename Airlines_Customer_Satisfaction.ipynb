{
  "nbformat": 4,
  "nbformat_minor": 0,
  "metadata": {
    "colab": {
      "provenance": [],
      "authorship_tag": "ABX9TyNU63l2Xv/OLS0irbZOKCVp",
      "include_colab_link": true
    },
    "kernelspec": {
      "name": "python3",
      "display_name": "Python 3"
    },
    "language_info": {
      "name": "python"
    }
  },
  "cells": [
    {
      "cell_type": "markdown",
      "metadata": {
        "id": "view-in-github",
        "colab_type": "text"
      },
      "source": [
        "<a href=\"https://colab.research.google.com/github/AnandSaumya/Airlines-Customer-Satisfaction/blob/main/Airlines_Customer_Satisfaction.ipynb\" target=\"_parent\"><img src=\"https://colab.research.google.com/assets/colab-badge.svg\" alt=\"Open In Colab\"/></a>"
      ]
    },
    {
      "cell_type": "markdown",
      "source": [
        "$\\huge{\\textbf{Analyzing Airlines Customer Data}}$\n",
        "\n",
        "\n",
        "\n",
        "---\n",
        "\n",
        "\n",
        "$\\textit{This is a self-paced project focused on analyzing airlines customer data to understand the dynamics behind the customer satisfaction and the revenue generated.}$"
      ],
      "metadata": {
        "id": "fkX0kZLcJSxL"
      }
    },
    {
      "cell_type": "markdown",
      "source": [
        "The dataset of this project has been taken from Kaggle. Originally, this dataset was given to a tech competition participants from an airline. To ensure sensitive data protection, the names have been changed."
      ],
      "metadata": {
        "id": "69RE-IwEJywn"
      }
    },
    {
      "cell_type": "markdown",
      "source": [
        "# $\\text{Table of Content}$\n",
        "\n",
        "1. Data Preparation\n",
        "2. Exploratory Data Analysis\n",
        "3."
      ],
      "metadata": {
        "id": "Cl7dd_0fKKqW"
      }
    },
    {
      "cell_type": "markdown",
      "source": [
        "# Data Preparation\n",
        "\n",
        "\n",
        "\n",
        "---\n",
        "\n",
        "The following steps have been taken up to prepare the data for analysis:\n",
        "\n",
        "\n",
        "\n",
        "1.   Data is loaded from personal GitHub\n",
        "2.   Data is checked for nulls and conflicting data types to ensure uniformity.\n",
        "3.   Data is cleaned by removing/imputing nulls by general guess.\n",
        "\n"
      ],
      "metadata": {
        "id": "yMvz-BI3KWcF"
      }
    },
    {
      "cell_type": "code",
      "execution_count": null,
      "metadata": {
        "id": "fewgCCfHFT-l"
      },
      "outputs": [],
      "source": [
        "# Import the necessary libraries\n",
        "import pandas as pd\n",
        "import numpy as np\n",
        "import scipy as sc\n",
        "import seaborn as sns\n",
        "import matplotlib.pyplot as plt\n",
        "import plotly.express as px\n",
        "from sklearn.model_selection import train_test_split\n",
        "from sklearn.preprocessing import StandardScaler, OneHotEncoder\n",
        "from sklearn.compose import ColumnTransformer\n",
        "from sklearn.pipeline import Pipeline\n",
        "from sklearn.ensemble import RandomForestClassifier, GradientBoostingClassifier\n",
        "from sklearn.linear_model import LogisticRegression\n",
        "from sklearn.metrics import accuracy_score, classification_report, confusion_matrix"
      ]
    },
    {
      "cell_type": "code",
      "source": [
        "# Load the dataset\n",
        "df = pd.read_csv('https://raw.githubusercontent.com/AnandSaumya/Airlines-Customer-Satisfaction/main/Dataset/Invistico_Airline.csv')  # When trying to load the datafile from GitHub: 1) Replace https://github.com/ with https://raw.githubusercontent.com/. and 2) Remove /blob/ from the URL."
      ],
      "metadata": {
        "id": "t8mQEYk4FzfU"
      },
      "execution_count": null,
      "outputs": []
    },
    {
      "cell_type": "code",
      "source": [
        "# View a couple of rows of the dataset\n",
        "df.head()"
      ],
      "metadata": {
        "id": "2dDH_uPNGAot"
      },
      "execution_count": null,
      "outputs": []
    },
    {
      "cell_type": "code",
      "source": [
        "# View what the datatype is of the various columns in the dataset\n",
        "df.info()"
      ],
      "metadata": {
        "id": "TJ7U6Ad0HrJ2"
      },
      "execution_count": null,
      "outputs": []
    },
    {
      "cell_type": "code",
      "source": [
        "# Get the number of nulls in each column\n",
        "df.isnull().sum()"
      ],
      "metadata": {
        "id": "cez1jfpQHwVt"
      },
      "execution_count": null,
      "outputs": []
    },
    {
      "cell_type": "code",
      "source": [
        "mean_of_arrival_delay=np.round(np.mean(df['Arrival Delay in Minutes']),1)\n",
        "mean_of_arrival_delay"
      ],
      "metadata": {
        "id": "JCshwSt2IByD"
      },
      "execution_count": null,
      "outputs": []
    },
    {
      "cell_type": "code",
      "source": [
        "# Imputing the missing values by adding the departure delay and average of arrival delay UNDER THE ASSUMPTION that the airline wasn't able to recover the lost time in departure delay.\n",
        "df.loc[df['Arrival Delay in Minutes'].isnull(), 'Arrival Delay in Minutes'] = (df['Departure Delay in Minutes'] + mean_of_arrival_delay)"
      ],
      "metadata": {
        "id": "S0TJqWV5IfaL"
      },
      "execution_count": null,
      "outputs": []
    },
    {
      "cell_type": "code",
      "source": [
        "# Making sure no nulls are left\n",
        "df.isnull().sum()"
      ],
      "metadata": {
        "id": "jg_cKuEGIptx"
      },
      "execution_count": null,
      "outputs": []
    },
    {
      "cell_type": "markdown",
      "source": [
        "# Exploratory Data Analysis"
      ],
      "metadata": {
        "id": "vB7F4rTeLUYR"
      }
    },
    {
      "cell_type": "code",
      "source": [
        "# Understanding the customer satisfaction distribution\n",
        "\n",
        "plt.figure(figsize=(8, 5))\n",
        "sns.countplot(x='satisfaction', data=df, palette='coolwarm')\n",
        "plt.title('Distribution of Customer Satisfaction')\n",
        "plt.xlabel('Satisfaction Level')\n",
        "plt.ylabel('Count')\n",
        "plt.show()"
      ],
      "metadata": {
        "id": "wpDdcMzhXZE4"
      },
      "execution_count": null,
      "outputs": []
    },
    {
      "cell_type": "markdown",
      "source": [
        "The above chart gives a really important inisght into the satisfaction level of the customers, as it can be clearly seen that the count of `satisfied` customers is significantly higher than the `disstatisfied` customers, helping understand the confidence level of our customers in our services.\n"
      ],
      "metadata": {
        "id": "5zsG_x3tXh4r"
      }
    },
    {
      "cell_type": "code",
      "source": [
        "# Flight Class v/s Satisfaction\n",
        "plt.figure(figsize=(8, 5))\n",
        "sns.countplot(x='Class', hue='satisfaction', data=df, palette='Set2')\n",
        "plt.title('Satisfaction Level Across Flight Classes')\n",
        "plt.xlabel('Flight Class')\n",
        "plt.ylabel('Count')\n",
        "plt.show()\n",
        "\n",
        "# Numerical values\n",
        "class_satisfaction_counts = df.groupby(['Class', 'satisfaction']).size().unstack(fill_value=0)\n",
        "class_satisfaction_counts"
      ],
      "metadata": {
        "id": "KomYTElkX9Hb"
      },
      "execution_count": null,
      "outputs": []
    },
    {
      "cell_type": "code",
      "source": [
        "# Calculate the ratio of satisfied to dissatisfied customers for each class\n",
        "class_satisfaction_ratios = class_satisfaction_counts['satisfied'] / class_satisfaction_counts['dissatisfied']\n",
        "\n",
        "# Print the ratios\n",
        "business_ratio=np.round(class_satisfaction_ratios.loc['Business'],2)\n",
        "print(\"The Business class ratio of satisfied to dissatisfied customers is \",business_ratio)\n",
        "\n",
        "eco_ratio=np.round(class_satisfaction_ratios.loc['Eco'],2)\n",
        "print(\"The Economy class ratio of satisfied to dissatisfied customers is \",eco_ratio)\n",
        "\n",
        "eco_plus_ratio=np.round(class_satisfaction_ratios.loc['Eco Plus'],2)\n",
        "print(\"The Economy Plus class ratio of satisfied to dissatisfied customers is \",eco_plus_ratio)"
      ],
      "metadata": {
        "id": "mvmwt4hGYet_"
      },
      "execution_count": null,
      "outputs": []
    },
    {
      "cell_type": "markdown",
      "source": [
        "From above it can be seen that the ratio of satisfied to dissatisfied customers is the highest in Business Class ratio whereas, in the case of Economy and Economy Plus it can be seen that the ratio is pretty close.\n",
        "\n",
        "If there was additional information available regarding revenue, occupancy rates, operating costs for each fare class, and per square meter for each cabin space, we could better compare the three classes and see increasing or decreasing the space in which compartment would be the most profitable."
      ],
      "metadata": {
        "id": "gpdkODWSkKIP"
      }
    },
    {
      "cell_type": "code",
      "source": [
        "# Aggregate the data to get satisfaction counts by Gender\n",
        "satisfaction_counts = df.groupby(['Gender', 'satisfaction']).size().reset_index(name='Count')\n",
        "\n",
        "# Create an interactive bar chart\n",
        "fig = px.bar(\n",
        "    satisfaction_counts,\n",
        "    x='Gender',\n",
        "    y='Count',\n",
        "    color='satisfaction',\n",
        "    barmode='group',\n",
        "    title='Satisfaction Level vs Gender',\n",
        "    labels={'Count': 'Number of Customers', 'Gender': 'Gender', 'satisfaction': 'Satisfaction Level'},\n",
        "    hover_data={'Count': True}  # This enables the hover information,\n",
        ")\n",
        "\n",
        "# Show the interactive plot\n",
        "fig.show()\n",
        "\n",
        "# Show the satisfaction counts in tabular form\n",
        "satisfaction_counts"
      ],
      "metadata": {
        "id": "eXHDNgdlzeRS"
      },
      "execution_count": null,
      "outputs": []
    },
    {
      "cell_type": "markdown",
      "source": [
        "From the above chart, we can see that as per the dataset, the satisfaction level in women is relatively higher than that of men. The dataset points that, overall, the male gender identifying customers are more dissatisfied."
      ],
      "metadata": {
        "id": "NrD9Z-QtHj6s"
      }
    },
    {
      "cell_type": "code",
      "source": [
        "plt.figure(figsize=(8, 5))\n",
        "sns.countplot(x='satisfaction', hue='Customer Type', data=df, palette='husl')\n",
        "plt.title('Customer Type vs Satisfaction')\n",
        "plt.xlabel('Satisfaction Level')\n",
        "plt.ylabel('Count')\n",
        "plt.show()\n",
        "\n",
        "# Calculate the ratio of satisfied to dissatisfied customers for each customer type\n",
        "customer_type_satisfaction_counts = df.groupby(['Customer Type', 'satisfaction']).size().unstack(fill_value=0)\n",
        "customer_type_satisfaction_ratios = customer_type_satisfaction_counts['satisfied'] / customer_type_satisfaction_counts['dissatisfied']\n",
        "\n",
        "for customer_type, ratio in customer_type_satisfaction_ratios.items():\n",
        "    print(f\"The {customer_type} type ratio of satisfied to dissatisfied customers is {ratio:.2f}\")"
      ],
      "metadata": {
        "id": "J6pVzAe_lYaH"
      },
      "execution_count": null,
      "outputs": []
    },
    {
      "cell_type": "markdown",
      "source": [
        "It can be seen from above the ratio of satisfied to dissatisfied customer is almost double in the case of `Loyal Customers`."
      ],
      "metadata": {
        "id": "W7rO2eLlpURl"
      }
    },
    {
      "cell_type": "markdown",
      "source": [
        "# Data Preparation for Modeling Purposes"
      ],
      "metadata": {
        "id": "fDJMgbSgXDo2"
      }
    },
    {
      "cell_type": "code",
      "source": [
        "# Convert target variable to binary\n",
        "df['satisfaction'] = df['satisfaction'].map({'satisfied': 1, 'neutral or dissatisfied': 0})\n",
        "\n",
        "# Identify categorical and numerical columns\n",
        "categorical_cols = df.select_dtypes(include=['object']).columns.tolist()\n",
        "numerical_cols = df.select_dtypes(include=['int64', 'float64']).columns.tolist()\n",
        "\n",
        "# Remove target column from numerical_cols if present\n",
        "if 'satisfaction' in numerical_cols:\n",
        "    numerical_cols.remove('satisfaction')"
      ],
      "metadata": {
        "id": "878hv8GdpM0j"
      },
      "execution_count": null,
      "outputs": []
    },
    {
      "cell_type": "markdown",
      "source": [
        "# Model Building"
      ],
      "metadata": {
        "id": "FZOb-2NHXT63"
      }
    },
    {
      "cell_type": "code",
      "source": [
        "# Define preprocessing steps\n",
        "preprocessor = ColumnTransformer(\n",
        "    transformers=[\n",
        "        ('num', StandardScaler(), numerical_cols),\n",
        "        ('cat', OneHotEncoder(handle_unknown='ignore'), categorical_cols)\n",
        "    ])\n",
        "\n",
        "# Define models to test\n",
        "models = {\n",
        "    \"Logistic Regression\": LogisticRegression(max_iter=1000),\n",
        "    \"Random Forest\": RandomForestClassifier(random_state=42),\n",
        "    \"Gradient Boosting\": GradientBoostingClassifier(random_state=42)\n",
        "}\n",
        "\n",
        "# Split data into training and testing sets\n",
        "X = df.drop('satisfaction', axis=1)\n",
        "y = df['satisfaction']\n",
        "X_train, X_test, y_train, y_test = train_test_split(X, y, test_size=0.2, random_state=42, stratify=y)\n",
        "\n",
        "# Train and evaluate models\n",
        "results = {}\n",
        "for model_name, model in models.items():\n",
        "    pipeline = Pipeline(steps=[('preprocessor', preprocessor), ('model', model)])\n",
        "    pipeline.fit(X_train, y_train)\n",
        "    y_pred = pipeline.predict(X_test)\n",
        "    acc = accuracy_score(y_test, y_pred)\n",
        "    print(f\"{model_name} Accuracy: {acc:.2f}\")\n",
        "    print(classification_report(y_test, y_pred))\n",
        "    results[model_name] = acc\n",
        "\n",
        "# Identify the best model\n",
        "best_model_name = max(results, key=results.get)\n",
        "print(f\"Best Model: {best_model_name} with accuracy {results[best_model_name]:.2f}\")\n"
      ],
      "metadata": {
        "id": "I5bccxVWXVot"
      },
      "execution_count": null,
      "outputs": []
    },
    {
      "cell_type": "code",
      "source": [],
      "metadata": {
        "id": "XdNo6xnoBwHd"
      },
      "execution_count": null,
      "outputs": []
    }
  ]
}